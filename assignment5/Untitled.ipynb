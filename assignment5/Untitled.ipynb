{
 "cells": [
  {
   "cell_type": "code",
   "execution_count": 4,
   "metadata": {},
   "outputs": [
    {
     "name": "stdout",
     "output_type": "stream",
     "text": [
      "0.01005033585350145 4.605170185988091 4.615220521841592\n",
      "0.6931471805599453 0.6931471805599453 1.3862943611198906\n",
      "0.01005033585350145 0.7985076962177716 0.8085580320712731\n",
      "0.4307829160924542 0.4307829160924542 0.8615658321849085\n"
     ]
    }
   ],
   "source": [
    "from math import log\n",
    "\n",
    "def BCE(y2, y):\n",
    "    result = -y*log(y2)-(1-y)*log(1-y2)\n",
    "    return result\n",
    "\n",
    "print(BCE(0.99, 1), BCE(0.01, 1), BCE(0.99, 1)+BCE(0.01, 1))\n",
    "print(BCE(0.5,1), BCE(0.5,1), BCE(0.5,1)+BCE(0.5,1))\n",
    "print(BCE(0.99,1), BCE(0.45,1), BCE(0.99,1)+BCE(0.45,1))\n",
    "print(BCE(0.65,1), BCE(0.65, 1), BCE(0.65,1)+BCE(0.65, 1))"
   ]
  },
  {
   "cell_type": "code",
   "execution_count": 5,
   "metadata": {},
   "outputs": [
    {
     "name": "stdout",
     "output_type": "stream",
     "text": [
      "4.605170185988091 4.605170185988091 9.210340371976182\n"
     ]
    }
   ],
   "source": [
    "print(BCE(0.01, 1), BCE(0.01, 1), BCE(0.01, 1)+BCE(0.01, 1))"
   ]
  },
  {
   "cell_type": "code",
   "execution_count": 6,
   "metadata": {},
   "outputs": [
    {
     "name": "stdout",
     "output_type": "stream",
     "text": [
      "0.0010005003335835344 0.0010005003335835344 0.0020010006671670687\n"
     ]
    }
   ],
   "source": [
    "print(BCE(0.999, 1), BCE(0.999, 1), BCE(0.999, 1)+BCE(0.999, 1))"
   ]
  },
  {
   "cell_type": "code",
   "execution_count": null,
   "metadata": {},
   "outputs": [],
   "source": []
  }
 ],
 "metadata": {
  "kernelspec": {
   "display_name": "Python 3",
   "language": "python",
   "name": "python3"
  },
  "language_info": {
   "codemirror_mode": {
    "name": "ipython",
    "version": 3
   },
   "file_extension": ".py",
   "mimetype": "text/x-python",
   "name": "python",
   "nbconvert_exporter": "python",
   "pygments_lexer": "ipython3",
   "version": "3.7.3"
  }
 },
 "nbformat": 4,
 "nbformat_minor": 2
}
