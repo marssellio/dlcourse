{
 "cells": [
  {
   "cell_type": "markdown",
   "metadata": {},
   "source": [
    "# Задание 2.1 - Нейронные сети\n",
    "\n",
    "В этом задании вы реализуете и натренируете настоящую нейроную сеть своими руками!\n",
    "\n",
    "В некотором смысле это будет расширением прошлого задания - нам нужно просто составить несколько линейных классификаторов вместе!\n",
    "\n",
    "<img src=\"https://i.redd.it/n9fgba8b0qr01.png\" alt=\"Stack_more_layers\" width=\"400px\"/>"
   ]
  },
  {
   "cell_type": "code",
   "execution_count": 1,
   "metadata": {},
   "outputs": [],
   "source": [
    "import numpy as np\n",
    "import matplotlib.pyplot as plt\n",
    "\n",
    "%matplotlib inline\n",
    "\n",
    "%load_ext autoreload\n",
    "%autoreload 2"
   ]
  },
  {
   "cell_type": "code",
   "execution_count": 2,
   "metadata": {},
   "outputs": [],
   "source": [
    "from dataset import load_svhn, random_split_train_val\n",
    "from gradient_check import check_layer_gradient, check_layer_param_gradient, check_model_gradient\n",
    "from layers import FullyConnectedLayer, ReLULayer\n",
    "from model import TwoLayerNet\n",
    "from trainer import Trainer, Dataset\n",
    "from optim import SGD, MomentumSGD\n",
    "from metrics import multiclass_accuracy"
   ]
  },
  {
   "cell_type": "markdown",
   "metadata": {},
   "source": [
    "# Загружаем данные\n",
    "\n",
    "И разделяем их на training и validation."
   ]
  },
  {
   "cell_type": "code",
   "execution_count": 14,
   "metadata": {},
   "outputs": [],
   "source": [
    "def prepare_for_neural_network(train_X, test_X):\n",
    "    train_flat = train_X.reshape(train_X.shape[0], -1).astype(np.float) / 255.0\n",
    "    test_flat = test_X.reshape(test_X.shape[0], -1).astype(np.float) / 255.0\n",
    "    \n",
    "    # Subtract mean\n",
    "    mean_image = np.mean(train_flat, axis = 0)\n",
    "    train_flat -= mean_image\n",
    "    test_flat -= mean_image\n",
    "    \n",
    "    return train_flat, test_flat\n",
    "    \n",
    "train_X, train_y, test_X, test_y = load_svhn(\"data\", max_train=10000, max_test=1000)    \n",
    "train_X, test_X = prepare_for_neural_network(train_X, test_X)\n",
    "# Split train into train and val\n",
    "train_X, train_y, val_X, val_y = random_split_train_val(train_X, train_y, num_val = 1000)"
   ]
  },
  {
   "cell_type": "markdown",
   "metadata": {},
   "source": [
    "# Как всегда, начинаем с кирпичиков\n",
    "\n",
    "Мы будем реализовывать необходимые нам слои по очереди. Каждый слой должен реализовать:\n",
    "- прямой проход (forward pass), который генерирует выход слоя по входу и запоминает необходимые данные\n",
    "- обратный проход (backward pass), который получает градиент по выходу слоя и вычисляет градиент по входу и по параметрам\n",
    "\n",
    "Начнем с ReLU, у которого параметров нет."
   ]
  },
  {
   "cell_type": "code",
   "execution_count": 5,
   "metadata": {
    "scrolled": false
   },
   "outputs": [
    {
     "name": "stdout",
     "output_type": "stream",
     "text": [
      "Gradient check passed!\n"
     ]
    }
   ],
   "source": [
    "# TODO: Implement ReLULayer layer in layers.py\n",
    "# Note: you'll need to copy implementation of the gradient_check function from the previous assignment\n",
    "\n",
    "X = np.array([[1,-2,3],\n",
    "              [-1, 2, 0.1]\n",
    "              ])\n",
    "\n",
    "assert check_layer_gradient(ReLULayer(), X)"
   ]
  },
  {
   "cell_type": "markdown",
   "metadata": {},
   "source": [
    "А теперь реализуем полносвязный слой (fully connected layer), у которого будет два массива параметров: W (weights) и B (bias).\n",
    "\n",
    "Все параметры наши слои будут использовать для параметров специальный класс `Param`, в котором будут храниться значения параметров и градиенты этих параметров, вычисляемые во время обратного прохода.\n",
    "\n",
    "Это даст возможность аккумулировать (суммировать) градиенты из разных частей функции потерь, например, из cross-entropy loss и regularization loss."
   ]
  },
  {
   "cell_type": "code",
   "execution_count": 15,
   "metadata": {},
   "outputs": [
    {
     "name": "stdout",
     "output_type": "stream",
     "text": [
      "Gradient check passed!\n",
      "Gradient check passed!\n",
      "Gradient check passed!\n"
     ]
    }
   ],
   "source": [
    "# TODO: Implement FullyConnected layer forward and backward methods\n",
    "assert check_layer_gradient(FullyConnectedLayer(3, 4), X)\n",
    "# TODO: Implement storing gradients for W and B\n",
    "assert check_layer_param_gradient(FullyConnectedLayer(3, 4), X, 'W')\n",
    "assert check_layer_param_gradient(FullyConnectedLayer(3, 4), X, 'B')"
   ]
  },
  {
   "cell_type": "code",
   "execution_count": 47,
   "metadata": {},
   "outputs": [
    {
     "name": "stdout",
     "output_type": "stream",
     "text": [
      "W <layers.Param object at 0xb179f50b8>\n",
      "B <layers.Param object at 0xb179f5e10>\n"
     ]
    }
   ],
   "source": [
    "for item, param in FullyConnectedLayer(3, 4).params().items():\n",
    "    print(item, param)"
   ]
  },
  {
   "cell_type": "markdown",
   "metadata": {},
   "source": [
    "## Создаем нейронную сеть\n",
    "\n",
    "Теперь мы реализуем простейшую нейронную сеть с двумя полносвязным слоями и нелинейностью ReLU. Реализуйте функцию `compute_loss_and_gradients`, она должна запустить прямой и обратный проход через оба слоя для вычисления градиентов.\n",
    "\n",
    "Не забудьте реализовать очистку градиентов в начале функции."
   ]
  },
  {
   "cell_type": "code",
   "execution_count": 36,
   "metadata": {},
   "outputs": [
    {
     "name": "stdout",
     "output_type": "stream",
     "text": [
      "Checking gradient for layer1.W\n",
      "Gradient check passed!\n",
      "Checking gradient for layer1.B\n",
      "Gradient check passed!\n",
      "Checking gradient for layer3.W\n",
      "Gradient check passed!\n"
     ]
    },
    {
     "data": {
      "text/plain": [
       "True"
      ]
     },
     "execution_count": 36,
     "metadata": {},
     "output_type": "execute_result"
    }
   ],
   "source": [
    "# TODO: In model.py, implement compute_loss_and_gradients function\n",
    "model = TwoLayerNet(n_input = train_X.shape[1], n_output = 10, hidden_layer_size = 3, reg = 0)\n",
    "loss = model.compute_loss_and_gradients(train_X[:2], train_y[:2])\n",
    "\n",
    "# TODO Now implement backward pass and aggregate all of the params\n",
    "check_model_gradient(model, train_X[:2], train_y[:2])"
   ]
  },
  {
   "cell_type": "markdown",
   "metadata": {},
   "source": [
    "Теперь добавьте к модели регуляризацию - она должна прибавляться к loss и делать свой вклад в градиенты."
   ]
  },
  {
   "cell_type": "code",
   "execution_count": 52,
   "metadata": {},
   "outputs": [
    {
     "name": "stdout",
     "output_type": "stream",
     "text": [
      "Checking gradient for layer1.W\n",
      "Gradient check passed!\n",
      "Checking gradient for layer1.B\n",
      "Gradient check passed!\n",
      "Checking gradient for layer3.W\n",
      "Gradient check passed!\n"
     ]
    },
    {
     "data": {
      "text/plain": [
       "True"
      ]
     },
     "execution_count": 52,
     "metadata": {},
     "output_type": "execute_result"
    }
   ],
   "source": [
    "# TODO Now implement l2 regularization in the forward and backward pass\n",
    "model_with_reg = TwoLayerNet(n_input = train_X.shape[1], n_output = 10, hidden_layer_size = 3, reg = 1e1)\n",
    "loss_with_reg = model_with_reg.compute_loss_and_gradients(train_X[:2], train_y[:2])\n",
    "assert loss_with_reg > loss and not np.isclose(loss_with_reg, loss), \\\n",
    "    \"Loss with regularization (%2.4f) should be higher than without it (%2.4f)!\" % (loss, loss_with_reg)\n",
    "\n",
    "check_model_gradient(model_with_reg, train_X[:2], train_y[:2])"
   ]
  },
  {
   "cell_type": "markdown",
   "metadata": {},
   "source": [
    "Также реализуем функцию предсказания (вычисления значения) модели на новых данных.\n",
    "\n",
    "Какое значение точности мы ожидаем увидеть до начала тренировки?"
   ]
  },
  {
   "cell_type": "code",
   "execution_count": 53,
   "metadata": {},
   "outputs": [
    {
     "data": {
      "text/plain": [
       "0.03333333333333333"
      ]
     },
     "execution_count": 53,
     "metadata": {},
     "output_type": "execute_result"
    }
   ],
   "source": [
    "# Finally, implement predict function!\n",
    "\n",
    "# TODO: Implement predict function\n",
    "# What would be the value we expect?\n",
    "multiclass_accuracy(model_with_reg.predict(train_X[:30]), train_y[:30]) "
   ]
  },
  {
   "cell_type": "markdown",
   "metadata": {},
   "source": [
    "# Допишем код для процесса тренировки\n",
    "\n",
    "Если все реализовано корректно, значение функции ошибки должно уменьшаться с каждой эпохой, пусть и медленно. Не беспокойтесь пока про validation accuracy."
   ]
  },
  {
   "cell_type": "code",
   "execution_count": 69,
   "metadata": {},
   "outputs": [
    {
     "data": {
      "text/plain": [
       "(9000, 3072)"
      ]
     },
     "execution_count": 69,
     "metadata": {},
     "output_type": "execute_result"
    }
   ],
   "source": [
    "train_X.shape"
   ]
  },
  {
   "cell_type": "code",
   "execution_count": 50,
   "metadata": {},
   "outputs": [
    {
     "name": "stdout",
     "output_type": "stream",
     "text": [
      "Loss: 2.222282, Train accuracy: 0.196667, val accuracy: 0.206000\n",
      "Loss: 2.262136, Train accuracy: 0.196667, val accuracy: 0.206000\n",
      "Loss: 2.161360, Train accuracy: 0.196667, val accuracy: 0.206000\n",
      "Loss: 2.208817, Train accuracy: 0.196667, val accuracy: 0.206000\n",
      "Loss: 2.215671, Train accuracy: 0.196667, val accuracy: 0.206000\n",
      "Loss: 2.375831, Train accuracy: 0.196667, val accuracy: 0.206000\n",
      "Loss: 2.279087, Train accuracy: 0.196667, val accuracy: 0.206000\n",
      "Loss: 2.296794, Train accuracy: 0.196667, val accuracy: 0.206000\n",
      "Loss: 2.352776, Train accuracy: 0.196667, val accuracy: 0.206000\n",
      "Loss: 2.356868, Train accuracy: 0.196667, val accuracy: 0.206000\n",
      "Loss: 2.145697, Train accuracy: 0.196667, val accuracy: 0.206000\n",
      "Loss: 2.084675, Train accuracy: 0.196667, val accuracy: 0.206000\n",
      "Loss: 2.096825, Train accuracy: 0.196667, val accuracy: 0.206000\n",
      "Loss: 2.182941, Train accuracy: 0.196667, val accuracy: 0.206000\n",
      "Loss: 2.226713, Train accuracy: 0.196667, val accuracy: 0.206000\n",
      "Loss: 2.324955, Train accuracy: 0.196667, val accuracy: 0.206000\n",
      "Loss: 2.255105, Train accuracy: 0.196667, val accuracy: 0.206000\n",
      "Loss: 2.314281, Train accuracy: 0.196667, val accuracy: 0.206000\n",
      "Loss: 2.205500, Train accuracy: 0.196667, val accuracy: 0.206000\n",
      "Loss: 2.286170, Train accuracy: 0.196667, val accuracy: 0.206000\n"
     ]
    }
   ],
   "source": [
    "model = TwoLayerNet(n_input = train_X.shape[1], n_output = 10, hidden_layer_size = 100, reg = 1e1)\n",
    "dataset = Dataset(train_X, train_y, val_X, val_y)\n",
    "trainer = Trainer(model, dataset, SGD(), learning_rate = 1e-2)\n",
    "\n",
    "# TODO Implement missing pieces in Trainer.fit function\n",
    "# You should expect loss to go down every epoch, even if it's slow\n",
    "loss_history, train_history, val_history = trainer.fit()"
   ]
  },
  {
   "cell_type": "code",
   "execution_count": 54,
   "metadata": {},
   "outputs": [
    {
     "data": {
      "text/plain": [
       "[<matplotlib.lines.Line2D at 0x1051150f0>]"
      ]
     },
     "execution_count": 54,
     "metadata": {},
     "output_type": "execute_result"
    },
    {
     "data": {
      "image/png": "[encoded data removed]",
      "text/plain": [
       "<Figure size 432x288 with 1 Axes>"
      ]
     },
     "metadata": {
      "needs_background": "light"
     },
     "output_type": "display_data"
    }
   ],
   "source": [
    "plt.plot(train_history)\n",
    "plt.plot(val_history)\n",
    "plt.plot(loss_history)"
   ]
  },
  {
   "cell_type": "code",
   "execution_count": 55,
   "metadata": {},
   "outputs": [
    {
     "data": {
      "text/plain": [
       "[<matplotlib.lines.Line2D at 0xb18556cf8>]"
      ]
     },
     "execution_count": 55,
     "metadata": {},
     "output_type": "execute_result"
    },
    {
     "data": {
      "image/png": "[encoded data removed]",
      "text/plain": [
       "<Figure size 432x288 with 1 Axes>"
      ]
     },
     "metadata": {
      "needs_background": "light"
     },
     "output_type": "display_data"
    }
   ],
   "source": [
    "plt.plot(loss_history)"
   ]
  },
  {
   "cell_type": "markdown",
   "metadata": {},
   "source": [
    "# Улучшаем процесс тренировки\n",
    "\n",
    "Мы реализуем несколько ключевых оптимизаций, необходимых для тренировки современных нейросетей."
   ]
  },
  {
   "cell_type": "markdown",
   "metadata": {},
   "source": [
    "## Уменьшение скорости обучения (learning rate decay)\n",
    "\n",
    "Одна из необходимых оптимизаций во время тренировки нейронных сетей - постепенное уменьшение скорости обучения по мере тренировки.\n",
    "\n",
    "Один из стандартных методов - уменьшение скорости обучения (learning rate) каждые N эпох на коэффициент d (часто называемый decay). Значения N и d, как всегда, являются гиперпараметрами и должны подбираться на основе эффективности на проверочных данных (validation data). \n",
    "\n",
    "В нашем случае N будет равным 1."
   ]
  },
  {
   "cell_type": "code",
   "execution_count": 57,
   "metadata": {},
   "outputs": [
    {
     "name": "stdout",
     "output_type": "stream",
     "text": [
      "Loss: 2.263324, Train accuracy: 0.196667, val accuracy: 0.206000\n",
      "Loss: 2.220223, Train accuracy: 0.196667, val accuracy: 0.206000\n",
      "Loss: 2.301698, Train accuracy: 0.196667, val accuracy: 0.206000\n",
      "Loss: 2.335452, Train accuracy: 0.196667, val accuracy: 0.206000\n",
      "Loss: 2.243683, Train accuracy: 0.196667, val accuracy: 0.206000\n",
      "Loss: 2.265556, Train accuracy: 0.196667, val accuracy: 0.206000\n",
      "Loss: 2.318213, Train accuracy: 0.196667, val accuracy: 0.206000\n",
      "Loss: 2.282019, Train accuracy: 0.196667, val accuracy: 0.206000\n",
      "Loss: 2.302962, Train accuracy: 0.196667, val accuracy: 0.206000\n",
      "Loss: 2.266117, Train accuracy: 0.196667, val accuracy: 0.206000\n",
      "Loss: 2.239290, Train accuracy: 0.196667, val accuracy: 0.206000\n",
      "Loss: 2.239442, Train accuracy: 0.196667, val accuracy: 0.206000\n",
      "Loss: 2.303512, Train accuracy: 0.196667, val accuracy: 0.206000\n",
      "Loss: 2.283935, Train accuracy: 0.196667, val accuracy: 0.206000\n",
      "Loss: 2.249252, Train accuracy: 0.196667, val accuracy: 0.206000\n",
      "Loss: 2.291344, Train accuracy: 0.196667, val accuracy: 0.206000\n",
      "Loss: 2.303446, Train accuracy: 0.196667, val accuracy: 0.206000\n",
      "Loss: 2.292269, Train accuracy: 0.196667, val accuracy: 0.206000\n",
      "Loss: 2.308432, Train accuracy: 0.196667, val accuracy: 0.206000\n",
      "Loss: 2.267712, Train accuracy: 0.196667, val accuracy: 0.206000\n"
     ]
    },
    {
     "ename": "AssertionError",
     "evalue": "Learning rate shouldn'tve been reduced that much!",
     "output_type": "error",
     "traceback": [
      "\u001b[0;31m---------------------------------------------------------------------------\u001b[0m",
      "\u001b[0;31mAssertionError\u001b[0m                            Traceback (most recent call last)",
      "\u001b[0;32m<ipython-input-57-2cd0d7e60500>\u001b[0m in \u001b[0;36m<module>\u001b[0;34m\u001b[0m\n\u001b[1;32m     10\u001b[0m \u001b[0;34m\u001b[0m\u001b[0m\n\u001b[1;32m     11\u001b[0m \u001b[0;32massert\u001b[0m \u001b[0mtrainer\u001b[0m\u001b[0;34m.\u001b[0m\u001b[0mlearning_rate\u001b[0m \u001b[0;34m<\u001b[0m \u001b[0minitial_learning_rate\u001b[0m\u001b[0;34m,\u001b[0m \u001b[0;34m\"Learning rate should've been reduced\"\u001b[0m\u001b[0;34m\u001b[0m\u001b[0;34m\u001b[0m\u001b[0m\n\u001b[0;32m---> 12\u001b[0;31m \u001b[0;32massert\u001b[0m \u001b[0mtrainer\u001b[0m\u001b[0;34m.\u001b[0m\u001b[0mlearning_rate\u001b[0m \u001b[0;34m>\u001b[0m \u001b[0;36m0.5\u001b[0m\u001b[0;34m*\u001b[0m\u001b[0minitial_learning_rate\u001b[0m\u001b[0;34m,\u001b[0m \u001b[0;34m\"Learning rate shouldn'tve been reduced that much!\"\u001b[0m\u001b[0;34m\u001b[0m\u001b[0;34m\u001b[0m\u001b[0m\n\u001b[0m",
      "\u001b[0;31mAssertionError\u001b[0m: Learning rate shouldn'tve been reduced that much!"
     ]
    }
   ],
   "source": [
    "# TODO Implement learning rate decay inside Trainer.fit method\n",
    "# Decay should happen once per epoch\n",
    "\n",
    "model = TwoLayerNet(n_input = train_X.shape[1], n_output = 10, hidden_layer_size = 100, reg = 1e-1)\n",
    "dataset = Dataset(train_X, train_y, val_X, val_y)\n",
    "trainer = Trainer(model, dataset, SGD(), learning_rate_decay=0.99)\n",
    "\n",
    "initial_learning_rate = trainer.learning_rate\n",
    "loss_history, train_history, val_history = trainer.fit()\n",
    "\n",
    "assert trainer.learning_rate < initial_learning_rate, \"Learning rate should've been reduced\"\n",
    "assert trainer.learning_rate > 0.5*initial_learning_rate, \"Learning rate shouldn'tve been reduced that much!\""
   ]
  },
  {
   "cell_type": "markdown",
   "metadata": {},
   "source": [
    "# Накопление импульса (Momentum SGD)\n",
    "\n",
    "Другой большой класс оптимизаций - использование более эффективных методов градиентного спуска. Мы реализуем один из них - накопление импульса (Momentum SGD).\n",
    "\n",
    "Этот метод хранит скорость движения, использует градиент для ее изменения на каждом шаге, и изменяет веса пропорционально значению скорости.\n",
    "(Физическая аналогия: Вместо скорости градиенты теперь будут задавать ускорение, но будет присутствовать сила трения.)\n",
    "\n",
    "```\n",
    "velocity = momentum * velocity - learning_rate * gradient \n",
    "w = w + velocity\n",
    "```\n",
    "\n",
    "`momentum` здесь коэффициент затухания, который тоже является гиперпараметром (к счастью, для него часто есть хорошее значение по умолчанию, типичный диапазон -- 0.8-0.99).\n",
    "\n",
    "Несколько полезных ссылок, где метод разбирается более подробно:  \n",
    "http://cs231n.github.io/neural-networks-3/#sgd  \n",
    "https://distill.pub/2017/momentum/"
   ]
  },
  {
   "cell_type": "code",
   "execution_count": 59,
   "metadata": {},
   "outputs": [
    {
     "name": "stdout",
     "output_type": "stream",
     "text": [
      "Loss: 2.302360, Train accuracy: 0.196667, val accuracy: 0.206000\n",
      "Loss: 2.296570, Train accuracy: 0.196667, val accuracy: 0.206000\n",
      "Loss: 2.309396, Train accuracy: 0.196667, val accuracy: 0.206000\n",
      "Loss: 2.299183, Train accuracy: 0.196667, val accuracy: 0.206000\n",
      "Loss: 2.306074, Train accuracy: 0.196667, val accuracy: 0.206000\n",
      "Loss: 2.301357, Train accuracy: 0.196667, val accuracy: 0.206000\n",
      "Loss: 2.298459, Train accuracy: 0.196667, val accuracy: 0.206000\n",
      "Loss: 2.291714, Train accuracy: 0.196667, val accuracy: 0.206000\n",
      "Loss: 2.298135, Train accuracy: 0.196667, val accuracy: 0.206000\n",
      "Loss: 2.298849, Train accuracy: 0.196667, val accuracy: 0.206000\n",
      "Loss: 2.296528, Train accuracy: 0.196667, val accuracy: 0.206000\n",
      "Loss: 2.305571, Train accuracy: 0.196667, val accuracy: 0.206000\n",
      "Loss: 2.307247, Train accuracy: 0.196667, val accuracy: 0.206000\n",
      "Loss: 2.299542, Train accuracy: 0.196667, val accuracy: 0.206000\n",
      "Loss: 2.285864, Train accuracy: 0.196667, val accuracy: 0.206000\n",
      "Loss: 2.297577, Train accuracy: 0.196667, val accuracy: 0.206000\n",
      "Loss: 2.295232, Train accuracy: 0.196667, val accuracy: 0.206000\n",
      "Loss: 2.305770, Train accuracy: 0.196667, val accuracy: 0.206000\n",
      "Loss: 2.304844, Train accuracy: 0.196667, val accuracy: 0.206000\n",
      "Loss: 2.292936, Train accuracy: 0.196667, val accuracy: 0.206000\n"
     ]
    }
   ],
   "source": [
    "# TODO: Implement MomentumSGD.update function in optim.py\n",
    "\n",
    "model = TwoLayerNet(n_input = train_X.shape[1], n_output = 10, hidden_layer_size = 100, reg = 1e-1)\n",
    "dataset = Dataset(train_X, train_y, val_X, val_y)\n",
    "trainer = Trainer(model, dataset, MomentumSGD(), learning_rate=1e-4, learning_rate_decay=0.99)\n",
    "\n",
    "# You should see even better results than before!\n",
    "loss_history, train_history, val_history = trainer.fit()"
   ]
  },
  {
   "cell_type": "markdown",
   "metadata": {},
   "source": [
    "# Ну что, давайте уже тренировать сеть!"
   ]
  },
  {
   "cell_type": "markdown",
   "metadata": {},
   "source": [
    "## Последний тест - переобучимся (overfit) на маленьком наборе данных\n",
    "\n",
    "Хороший способ проверить, все ли реализовано корректно - переобучить сеть на маленьком наборе данных.  \n",
    "Наша модель обладает достаточной мощностью, чтобы приблизить маленький набор данных идеально, поэтому мы ожидаем, что на нем мы быстро дойдем до 100% точности на тренировочном наборе. \n",
    "\n",
    "Если этого не происходит, то где-то была допущена ошибка!"
   ]
  },
  {
   "cell_type": "code",
   "execution_count": 60,
   "metadata": {},
   "outputs": [
    {
     "name": "stdout",
     "output_type": "stream",
     "text": [
      "Loss: 2.313330, Train accuracy: 0.200000, val accuracy: 0.133333\n",
      "Loss: 2.295656, Train accuracy: 0.200000, val accuracy: 0.133333\n",
      "Loss: 2.267304, Train accuracy: 0.200000, val accuracy: 0.133333\n",
      "Loss: 2.301773, Train accuracy: 0.200000, val accuracy: 0.133333\n",
      "Loss: 2.275044, Train accuracy: 0.200000, val accuracy: 0.133333\n",
      "Loss: 2.247942, Train accuracy: 0.200000, val accuracy: 0.133333\n",
      "Loss: 2.210456, Train accuracy: 0.200000, val accuracy: 0.133333\n",
      "Loss: 2.277450, Train accuracy: 0.200000, val accuracy: 0.133333\n",
      "Loss: 2.185708, Train accuracy: 0.266667, val accuracy: 0.000000\n",
      "Loss: 2.169285, Train accuracy: 0.266667, val accuracy: 0.000000\n",
      "Loss: 2.249678, Train accuracy: 0.266667, val accuracy: 0.000000\n",
      "Loss: 1.951585, Train accuracy: 0.266667, val accuracy: 0.000000\n",
      "Loss: 1.876698, Train accuracy: 0.266667, val accuracy: 0.000000\n",
      "Loss: 1.940951, Train accuracy: 0.400000, val accuracy: 0.000000\n",
      "Loss: 2.121283, Train accuracy: 0.400000, val accuracy: 0.000000\n",
      "Loss: 2.253735, Train accuracy: 0.400000, val accuracy: 0.000000\n",
      "Loss: 1.987482, Train accuracy: 0.400000, val accuracy: 0.000000\n",
      "Loss: 1.908443, Train accuracy: 0.400000, val accuracy: 0.000000\n",
      "Loss: 1.556664, Train accuracy: 0.400000, val accuracy: 0.000000\n",
      "Loss: 1.513839, Train accuracy: 0.400000, val accuracy: 0.000000\n",
      "Loss: 1.589340, Train accuracy: 0.400000, val accuracy: 0.000000\n",
      "Loss: 1.452519, Train accuracy: 0.400000, val accuracy: 0.000000\n",
      "Loss: 2.321631, Train accuracy: 0.400000, val accuracy: 0.000000\n",
      "Loss: 1.438304, Train accuracy: 0.400000, val accuracy: 0.000000\n",
      "Loss: 2.114777, Train accuracy: 0.400000, val accuracy: 0.066667\n",
      "Loss: 1.477361, Train accuracy: 0.400000, val accuracy: 0.000000\n",
      "Loss: 1.359391, Train accuracy: 0.400000, val accuracy: 0.066667\n",
      "Loss: 1.960485, Train accuracy: 0.400000, val accuracy: 0.133333\n",
      "Loss: 2.241122, Train accuracy: 0.400000, val accuracy: 0.066667\n",
      "Loss: 1.127206, Train accuracy: 0.400000, val accuracy: 0.066667\n",
      "Loss: 1.616395, Train accuracy: 0.400000, val accuracy: 0.066667\n",
      "Loss: 2.028534, Train accuracy: 0.400000, val accuracy: 0.000000\n",
      "Loss: 1.830794, Train accuracy: 0.400000, val accuracy: 0.000000\n",
      "Loss: 1.393634, Train accuracy: 0.400000, val accuracy: 0.000000\n",
      "Loss: 1.489514, Train accuracy: 0.466667, val accuracy: 0.000000\n",
      "Loss: 1.675337, Train accuracy: 0.466667, val accuracy: 0.000000\n",
      "Loss: 1.799013, Train accuracy: 0.466667, val accuracy: 0.000000\n",
      "Loss: 1.712184, Train accuracy: 0.466667, val accuracy: 0.000000\n",
      "Loss: 1.947728, Train accuracy: 0.466667, val accuracy: 0.000000\n",
      "Loss: 2.010247, Train accuracy: 0.533333, val accuracy: 0.000000\n",
      "Loss: 1.677269, Train accuracy: 0.533333, val accuracy: 0.000000\n",
      "Loss: 1.711555, Train accuracy: 0.466667, val accuracy: 0.000000\n",
      "Loss: 1.115563, Train accuracy: 0.466667, val accuracy: 0.000000\n",
      "Loss: 1.473389, Train accuracy: 0.533333, val accuracy: 0.000000\n",
      "Loss: 1.550967, Train accuracy: 0.600000, val accuracy: 0.000000\n",
      "Loss: 1.081456, Train accuracy: 0.533333, val accuracy: 0.000000\n",
      "Loss: 1.673656, Train accuracy: 0.600000, val accuracy: 0.000000\n",
      "Loss: 1.413661, Train accuracy: 0.533333, val accuracy: 0.000000\n",
      "Loss: 1.792638, Train accuracy: 0.533333, val accuracy: 0.000000\n",
      "Loss: 1.667819, Train accuracy: 0.600000, val accuracy: 0.000000\n",
      "Loss: 1.730563, Train accuracy: 0.666667, val accuracy: 0.000000\n",
      "Loss: 1.245205, Train accuracy: 0.666667, val accuracy: 0.000000\n",
      "Loss: 1.234047, Train accuracy: 0.666667, val accuracy: 0.000000\n",
      "Loss: 1.465152, Train accuracy: 0.666667, val accuracy: 0.000000\n",
      "Loss: 2.052438, Train accuracy: 0.666667, val accuracy: 0.000000\n",
      "Loss: 1.895880, Train accuracy: 0.666667, val accuracy: 0.000000\n",
      "Loss: 1.573863, Train accuracy: 0.733333, val accuracy: 0.066667\n",
      "Loss: 1.346063, Train accuracy: 0.733333, val accuracy: 0.066667\n",
      "Loss: 1.223363, Train accuracy: 0.733333, val accuracy: 0.000000\n",
      "Loss: 1.507529, Train accuracy: 0.733333, val accuracy: 0.000000\n",
      "Loss: 1.329266, Train accuracy: 0.733333, val accuracy: 0.000000\n",
      "Loss: 1.707389, Train accuracy: 0.733333, val accuracy: 0.000000\n",
      "Loss: 1.844443, Train accuracy: 0.800000, val accuracy: 0.066667\n",
      "Loss: 1.528234, Train accuracy: 0.800000, val accuracy: 0.066667\n",
      "Loss: 1.125265, Train accuracy: 0.800000, val accuracy: 0.000000\n",
      "Loss: 1.170777, Train accuracy: 0.800000, val accuracy: 0.000000\n",
      "Loss: 1.390364, Train accuracy: 0.800000, val accuracy: 0.000000\n",
      "Loss: 0.871876, Train accuracy: 0.800000, val accuracy: 0.000000\n",
      "Loss: 1.387109, Train accuracy: 0.800000, val accuracy: 0.000000\n",
      "Loss: 1.512464, Train accuracy: 0.800000, val accuracy: 0.066667\n",
      "Loss: 1.393327, Train accuracy: 0.800000, val accuracy: 0.000000\n",
      "Loss: 1.418344, Train accuracy: 0.800000, val accuracy: 0.000000\n",
      "Loss: 1.766237, Train accuracy: 0.800000, val accuracy: 0.000000\n",
      "Loss: 0.798037, Train accuracy: 0.800000, val accuracy: 0.000000\n",
      "Loss: 1.751419, Train accuracy: 0.800000, val accuracy: 0.066667\n",
      "Loss: 1.118516, Train accuracy: 0.800000, val accuracy: 0.000000\n",
      "Loss: 1.065695, Train accuracy: 0.800000, val accuracy: 0.000000\n",
      "Loss: 1.622125, Train accuracy: 0.800000, val accuracy: 0.000000\n",
      "Loss: 1.372487, Train accuracy: 0.800000, val accuracy: 0.000000\n",
      "Loss: 1.317716, Train accuracy: 0.800000, val accuracy: 0.000000\n",
      "Loss: 1.341970, Train accuracy: 0.800000, val accuracy: 0.000000\n",
      "Loss: 1.699377, Train accuracy: 0.800000, val accuracy: 0.000000\n",
      "Loss: 1.574757, Train accuracy: 0.800000, val accuracy: 0.000000\n",
      "Loss: 1.491428, Train accuracy: 0.800000, val accuracy: 0.000000\n",
      "Loss: 1.747660, Train accuracy: 0.800000, val accuracy: 0.000000\n",
      "Loss: 1.813047, Train accuracy: 0.800000, val accuracy: 0.000000\n",
      "Loss: 1.230409, Train accuracy: 0.800000, val accuracy: 0.000000\n",
      "Loss: 0.867783, Train accuracy: 0.800000, val accuracy: 0.000000\n",
      "Loss: 1.382730, Train accuracy: 0.800000, val accuracy: 0.000000\n",
      "Loss: 0.860690, Train accuracy: 0.800000, val accuracy: 0.000000\n",
      "Loss: 1.384831, Train accuracy: 0.800000, val accuracy: 0.000000\n",
      "Loss: 1.286017, Train accuracy: 0.800000, val accuracy: 0.000000\n",
      "Loss: 1.935622, Train accuracy: 0.800000, val accuracy: 0.000000\n",
      "Loss: 0.949048, Train accuracy: 0.800000, val accuracy: 0.000000\n",
      "Loss: 1.378486, Train accuracy: 0.800000, val accuracy: 0.000000\n",
      "Loss: 0.977516, Train accuracy: 0.800000, val accuracy: 0.000000\n",
      "Loss: 1.277505, Train accuracy: 0.800000, val accuracy: 0.000000\n",
      "Loss: 1.578128, Train accuracy: 0.800000, val accuracy: 0.000000\n",
      "Loss: 1.178259, Train accuracy: 0.800000, val accuracy: 0.000000\n",
      "Loss: 1.218723, Train accuracy: 0.800000, val accuracy: 0.000000\n",
      "Loss: 1.240859, Train accuracy: 0.800000, val accuracy: 0.000000\n",
      "Loss: 1.164055, Train accuracy: 0.800000, val accuracy: 0.000000\n",
      "Loss: 1.412850, Train accuracy: 0.800000, val accuracy: 0.000000\n",
      "Loss: 1.052664, Train accuracy: 0.800000, val accuracy: 0.000000\n",
      "Loss: 1.471199, Train accuracy: 0.800000, val accuracy: 0.000000\n",
      "Loss: 1.243748, Train accuracy: 0.800000, val accuracy: 0.000000\n",
      "Loss: 1.684508, Train accuracy: 0.800000, val accuracy: 0.000000\n",
      "Loss: 1.740886, Train accuracy: 0.800000, val accuracy: 0.000000\n",
      "Loss: 0.973135, Train accuracy: 0.800000, val accuracy: 0.000000\n",
      "Loss: 0.872325, Train accuracy: 0.800000, val accuracy: 0.000000\n",
      "Loss: 1.259177, Train accuracy: 0.800000, val accuracy: 0.000000\n",
      "Loss: 1.181848, Train accuracy: 0.800000, val accuracy: 0.000000\n",
      "Loss: 1.431496, Train accuracy: 0.800000, val accuracy: 0.000000\n",
      "Loss: 1.508625, Train accuracy: 0.800000, val accuracy: 0.000000\n",
      "Loss: 1.306184, Train accuracy: 0.800000, val accuracy: 0.000000\n",
      "Loss: 1.177009, Train accuracy: 0.800000, val accuracy: 0.000000\n",
      "Loss: 1.687489, Train accuracy: 0.800000, val accuracy: 0.000000\n",
      "Loss: 0.908380, Train accuracy: 0.800000, val accuracy: 0.000000\n",
      "Loss: 1.728621, Train accuracy: 0.800000, val accuracy: 0.000000\n",
      "Loss: 1.530479, Train accuracy: 0.800000, val accuracy: 0.000000\n",
      "Loss: 1.741164, Train accuracy: 0.800000, val accuracy: 0.000000\n",
      "Loss: 1.825606, Train accuracy: 0.800000, val accuracy: 0.000000\n",
      "Loss: 1.134661, Train accuracy: 0.800000, val accuracy: 0.000000\n",
      "Loss: 1.544514, Train accuracy: 0.866667, val accuracy: 0.000000\n",
      "Loss: 1.218836, Train accuracy: 0.800000, val accuracy: 0.000000\n",
      "Loss: 1.154048, Train accuracy: 0.800000, val accuracy: 0.000000\n",
      "Loss: 1.572458, Train accuracy: 0.866667, val accuracy: 0.000000\n",
      "Loss: 1.152982, Train accuracy: 0.866667, val accuracy: 0.000000\n",
      "Loss: 1.366568, Train accuracy: 0.800000, val accuracy: 0.000000\n",
      "Loss: 1.233118, Train accuracy: 0.866667, val accuracy: 0.000000\n",
      "Loss: 1.342978, Train accuracy: 0.800000, val accuracy: 0.000000\n",
      "Loss: 0.976894, Train accuracy: 0.866667, val accuracy: 0.000000\n",
      "Loss: 1.119878, Train accuracy: 0.866667, val accuracy: 0.000000\n",
      "Loss: 1.704564, Train accuracy: 0.866667, val accuracy: 0.000000\n",
      "Loss: 0.802525, Train accuracy: 0.800000, val accuracy: 0.000000\n",
      "Loss: 1.338506, Train accuracy: 0.866667, val accuracy: 0.000000\n",
      "Loss: 1.586959, Train accuracy: 0.866667, val accuracy: 0.000000\n",
      "Loss: 1.049498, Train accuracy: 0.866667, val accuracy: 0.000000\n",
      "Loss: 1.617902, Train accuracy: 0.866667, val accuracy: 0.000000\n",
      "Loss: 1.525341, Train accuracy: 0.866667, val accuracy: 0.000000\n",
      "Loss: 1.088913, Train accuracy: 0.866667, val accuracy: 0.000000\n",
      "Loss: 1.432742, Train accuracy: 0.866667, val accuracy: 0.000000\n",
      "Loss: 1.153628, Train accuracy: 0.866667, val accuracy: 0.066667\n",
      "Loss: 1.497889, Train accuracy: 0.866667, val accuracy: 0.000000\n",
      "Loss: 1.238333, Train accuracy: 0.866667, val accuracy: 0.000000\n",
      "Loss: 1.368631, Train accuracy: 0.866667, val accuracy: 0.000000\n",
      "Loss: 1.149772, Train accuracy: 0.866667, val accuracy: 0.000000\n",
      "Loss: 1.307122, Train accuracy: 0.866667, val accuracy: 0.000000\n",
      "Loss: 1.424940, Train accuracy: 0.866667, val accuracy: 0.000000\n",
      "Loss: 1.445682, Train accuracy: 0.866667, val accuracy: 0.000000\n"
     ]
    }
   ],
   "source": [
    "data_size = 15\n",
    "model = TwoLayerNet(n_input = train_X.shape[1], n_output = 10, hidden_layer_size = 100, reg = 1e-1)\n",
    "dataset = Dataset(train_X[:data_size], train_y[:data_size], val_X[:data_size], val_y[:data_size])\n",
    "trainer = Trainer(model, dataset, SGD(), learning_rate=1e-1, num_epochs=150, batch_size=5)\n",
    "\n",
    "# You should expect this to reach 1.0 training accuracy \n",
    "loss_history, train_history, val_history = trainer.fit()"
   ]
  },
  {
   "cell_type": "markdown",
   "metadata": {},
   "source": [
    "Теперь найдем гипепараметры, для которых этот процесс сходится быстрее.\n",
    "Если все реализовано корректно, то существуют параметры, при которых процесс сходится в **20** эпох или еще быстрее.\n",
    "Найдите их!"
   ]
  },
  {
   "cell_type": "code",
   "execution_count": 64,
   "metadata": {},
   "outputs": [
    {
     "name": "stdout",
     "output_type": "stream",
     "text": [
      "Loss: 2.306644, Train accuracy: 0.200000, val accuracy: 0.066667\n",
      "Loss: 2.293270, Train accuracy: 0.200000, val accuracy: 0.066667\n",
      "Loss: 2.296320, Train accuracy: 0.200000, val accuracy: 0.066667\n",
      "Loss: 2.253260, Train accuracy: 0.200000, val accuracy: 0.066667\n",
      "Loss: 2.287459, Train accuracy: 0.333333, val accuracy: 0.066667\n",
      "Loss: 2.305922, Train accuracy: 0.200000, val accuracy: 0.066667\n",
      "Loss: 2.313797, Train accuracy: 0.266667, val accuracy: 0.000000\n",
      "Loss: 2.242170, Train accuracy: 0.266667, val accuracy: 0.000000\n",
      "Loss: 2.126024, Train accuracy: 0.266667, val accuracy: 0.000000\n",
      "Loss: 2.119446, Train accuracy: 0.266667, val accuracy: 0.000000\n",
      "Loss: 2.182628, Train accuracy: 0.266667, val accuracy: 0.000000\n",
      "Loss: 2.245882, Train accuracy: 0.266667, val accuracy: 0.000000\n",
      "Loss: 2.108874, Train accuracy: 0.400000, val accuracy: 0.000000\n",
      "Loss: 1.622275, Train accuracy: 0.400000, val accuracy: 0.000000\n",
      "Loss: 1.714791, Train accuracy: 0.400000, val accuracy: 0.000000\n",
      "Loss: 1.782290, Train accuracy: 0.400000, val accuracy: 0.000000\n",
      "Loss: 1.484125, Train accuracy: 0.400000, val accuracy: 0.000000\n",
      "Loss: 1.492229, Train accuracy: 0.400000, val accuracy: 0.000000\n",
      "Loss: 1.088223, Train accuracy: 0.400000, val accuracy: 0.000000\n",
      "Loss: 1.407535, Train accuracy: 0.466667, val accuracy: 0.000000\n"
     ]
    }
   ],
   "source": [
    "# Now, tweak some hyper parameters and make it train to 1.0 accuracy in 20 epochs or less\n",
    "\n",
    "model = TwoLayerNet(n_input = train_X.shape[1], n_output = 10, hidden_layer_size = 100, reg = 0)\n",
    "dataset = Dataset(train_X[:data_size], train_y[:data_size], val_X[:data_size], val_y[:data_size])\n",
    "# TODO: Change any hyperparamers or optimizators to reach training accuracy in 20 epochs\n",
    "trainer = Trainer(model, dataset, MomentumSGD(), learning_rate=1e-1, num_epochs=20, batch_size=5)\n",
    "\n",
    "loss_history, train_history, val_history = trainer.fit()"
   ]
  },
  {
   "cell_type": "markdown",
   "metadata": {},
   "source": [
    "# Итак, основное мероприятие!\n",
    "\n",
    "Натренируйте лучшую нейросеть! Можно добавлять и изменять параметры, менять количество нейронов в слоях сети и как угодно экспериментировать. \n",
    "\n",
    "Добейтесь точности лучше **60%** на validation set."
   ]
  },
  {
   "cell_type": "code",
   "execution_count": 88,
   "metadata": {
    "scrolled": true
   },
   "outputs": [
    {
     "name": "stdout",
     "output_type": "stream",
     "text": [
      "Loss: 2.291047, Train accuracy: 0.196667, val accuracy: 0.206000\n",
      "Loss: 2.278075, Train accuracy: 0.196667, val accuracy: 0.206000\n",
      "Loss: 2.269545, Train accuracy: 0.196667, val accuracy: 0.206000\n",
      "Loss: 2.246676, Train accuracy: 0.196667, val accuracy: 0.206000\n",
      "Loss: 2.237251, Train accuracy: 0.196667, val accuracy: 0.206000\n",
      "Loss: 2.252818, Train accuracy: 0.196667, val accuracy: 0.206000\n",
      "Loss: 2.250834, Train accuracy: 0.196667, val accuracy: 0.206000\n",
      "Loss: 2.262939, Train accuracy: 0.196667, val accuracy: 0.206000\n",
      "Loss: 2.243491, Train accuracy: 0.196667, val accuracy: 0.206000\n",
      "Loss: 2.201578, Train accuracy: 0.196667, val accuracy: 0.206000\n",
      "Loss: 2.252455, Train accuracy: 0.196667, val accuracy: 0.206000\n",
      "Loss: 2.270932, Train accuracy: 0.196667, val accuracy: 0.206000\n",
      "Loss: 2.271639, Train accuracy: 0.196667, val accuracy: 0.206000\n",
      "Loss: 2.186965, Train accuracy: 0.196667, val accuracy: 0.206000\n",
      "Loss: 2.226151, Train accuracy: 0.196667, val accuracy: 0.206000\n",
      "Loss: 2.211028, Train accuracy: 0.196667, val accuracy: 0.206000\n",
      "Loss: 2.200939, Train accuracy: 0.196667, val accuracy: 0.206000\n",
      "Loss: 2.173949, Train accuracy: 0.196667, val accuracy: 0.206000\n",
      "Loss: 2.237739, Train accuracy: 0.196667, val accuracy: 0.206000\n",
      "Loss: 2.254611, Train accuracy: 0.196667, val accuracy: 0.206000\n",
      "Loss: 2.229384, Train accuracy: 0.196667, val accuracy: 0.206000\n",
      "Loss: 2.212213, Train accuracy: 0.196667, val accuracy: 0.206000\n",
      "Loss: 2.151976, Train accuracy: 0.196667, val accuracy: 0.206000\n",
      "Loss: 2.217323, Train accuracy: 0.196667, val accuracy: 0.206000\n",
      "Loss: 2.229902, Train accuracy: 0.196667, val accuracy: 0.206000\n",
      "Loss: 2.270075, Train accuracy: 0.196667, val accuracy: 0.206000\n",
      "Loss: 2.196633, Train accuracy: 0.196667, val accuracy: 0.206000\n",
      "Loss: 2.273132, Train accuracy: 0.196667, val accuracy: 0.206000\n",
      "Loss: 2.277519, Train accuracy: 0.196667, val accuracy: 0.206000\n",
      "Loss: 2.214682, Train accuracy: 0.196667, val accuracy: 0.206000\n",
      "Loss: 2.219945, Train accuracy: 0.196667, val accuracy: 0.206000\n",
      "Loss: 2.237401, Train accuracy: 0.196667, val accuracy: 0.206000\n",
      "Loss: 2.157900, Train accuracy: 0.196667, val accuracy: 0.206000\n",
      "Loss: 2.186875, Train accuracy: 0.196667, val accuracy: 0.206000\n",
      "Loss: 2.213531, Train accuracy: 0.196667, val accuracy: 0.206000\n",
      "Loss: 2.275720, Train accuracy: 0.196667, val accuracy: 0.206000\n",
      "Loss: 2.199232, Train accuracy: 0.196667, val accuracy: 0.206000\n",
      "Loss: 2.270968, Train accuracy: 0.196667, val accuracy: 0.206000\n",
      "Loss: 2.195771, Train accuracy: 0.196667, val accuracy: 0.206000\n",
      "Loss: 2.217145, Train accuracy: 0.196667, val accuracy: 0.206000\n",
      "Loss: 2.209910, Train accuracy: 0.196667, val accuracy: 0.206000\n",
      "Loss: 2.182411, Train accuracy: 0.196667, val accuracy: 0.206000\n",
      "Loss: 2.118846, Train accuracy: 0.196667, val accuracy: 0.206000\n",
      "Loss: 2.209434, Train accuracy: 0.196667, val accuracy: 0.206000\n",
      "Loss: 2.250617, Train accuracy: 0.196667, val accuracy: 0.206000\n",
      "Loss: 2.211120, Train accuracy: 0.196667, val accuracy: 0.206000\n",
      "Loss: 2.139029, Train accuracy: 0.196667, val accuracy: 0.206000\n",
      "Loss: 2.170882, Train accuracy: 0.196667, val accuracy: 0.206000\n",
      "Loss: 2.206762, Train accuracy: 0.196667, val accuracy: 0.206000\n",
      "Loss: 2.174950, Train accuracy: 0.196667, val accuracy: 0.206000\n",
      "Loss: 2.198797, Train accuracy: 0.196667, val accuracy: 0.206000\n",
      "Loss: 2.284913, Train accuracy: 0.200111, val accuracy: 0.210000\n",
      "Loss: 2.166318, Train accuracy: 0.206222, val accuracy: 0.212000\n",
      "Loss: 2.142690, Train accuracy: 0.210333, val accuracy: 0.214000\n",
      "Loss: 2.082000, Train accuracy: 0.213667, val accuracy: 0.218000\n",
      "Loss: 2.114584, Train accuracy: 0.218556, val accuracy: 0.229000\n",
      "Loss: 2.167487, Train accuracy: 0.222778, val accuracy: 0.227000\n",
      "Loss: 2.214893, Train accuracy: 0.227333, val accuracy: 0.236000\n",
      "Loss: 2.113952, Train accuracy: 0.230556, val accuracy: 0.237000\n",
      "Loss: 2.152822, Train accuracy: 0.233889, val accuracy: 0.243000\n",
      "Loss: 2.228245, Train accuracy: 0.237444, val accuracy: 0.243000\n",
      "Loss: 2.136111, Train accuracy: 0.240222, val accuracy: 0.245000\n",
      "Loss: 2.074438, Train accuracy: 0.244556, val accuracy: 0.246000\n",
      "Loss: 2.119400, Train accuracy: 0.245111, val accuracy: 0.244000\n",
      "Loss: 2.127400, Train accuracy: 0.248111, val accuracy: 0.249000\n",
      "Loss: 2.091803, Train accuracy: 0.251000, val accuracy: 0.251000\n",
      "Loss: 2.123375, Train accuracy: 0.253667, val accuracy: 0.250000\n",
      "Loss: 2.102194, Train accuracy: 0.255111, val accuracy: 0.252000\n",
      "Loss: 2.139020, Train accuracy: 0.259667, val accuracy: 0.258000\n",
      "Loss: 2.092506, Train accuracy: 0.257556, val accuracy: 0.255000\n",
      "Loss: 2.053369, Train accuracy: 0.258556, val accuracy: 0.257000\n",
      "Loss: 2.093309, Train accuracy: 0.263222, val accuracy: 0.260000\n",
      "Loss: 2.134876, Train accuracy: 0.260667, val accuracy: 0.261000\n",
      "Loss: 2.152777, Train accuracy: 0.266111, val accuracy: 0.266000\n",
      "Loss: 2.066246, Train accuracy: 0.265889, val accuracy: 0.269000\n",
      "Loss: 2.065951, Train accuracy: 0.268111, val accuracy: 0.265000\n",
      "Loss: 2.069840, Train accuracy: 0.266222, val accuracy: 0.268000\n",
      "Loss: 2.056676, Train accuracy: 0.268333, val accuracy: 0.267000\n",
      "Loss: 2.096115, Train accuracy: 0.268667, val accuracy: 0.268000\n",
      "Loss: 2.062471, Train accuracy: 0.271556, val accuracy: 0.268000\n",
      "Loss: 1.989163, Train accuracy: 0.270556, val accuracy: 0.269000\n",
      "Loss: 2.004363, Train accuracy: 0.271556, val accuracy: 0.269000\n",
      "Loss: 2.079799, Train accuracy: 0.272556, val accuracy: 0.273000\n",
      "Loss: 2.043503, Train accuracy: 0.273222, val accuracy: 0.273000\n",
      "Loss: 2.069092, Train accuracy: 0.273333, val accuracy: 0.275000\n",
      "Loss: 2.008402, Train accuracy: 0.274000, val accuracy: 0.277000\n",
      "Loss: 2.014805, Train accuracy: 0.274222, val accuracy: 0.279000\n",
      "Loss: 2.018551, Train accuracy: 0.275556, val accuracy: 0.277000\n",
      "Loss: 2.112460, Train accuracy: 0.277889, val accuracy: 0.283000\n",
      "Loss: 2.114885, Train accuracy: 0.278000, val accuracy: 0.278000\n",
      "Loss: 1.998552, Train accuracy: 0.279333, val accuracy: 0.277000\n",
      "Loss: 1.968963, Train accuracy: 0.283111, val accuracy: 0.284000\n",
      "Loss: 1.992542, Train accuracy: 0.284444, val accuracy: 0.290000\n",
      "Loss: 1.944149, Train accuracy: 0.285111, val accuracy: 0.290000\n",
      "Loss: 2.017768, Train accuracy: 0.286889, val accuracy: 0.291000\n",
      "Loss: 1.964418, Train accuracy: 0.289000, val accuracy: 0.292000\n",
      "Loss: 1.892692, Train accuracy: 0.293000, val accuracy: 0.299000\n",
      "Loss: 1.931428, Train accuracy: 0.296000, val accuracy: 0.302000\n",
      "Loss: 1.958612, Train accuracy: 0.301333, val accuracy: 0.307000\n",
      "Loss: 1.881982, Train accuracy: 0.306222, val accuracy: 0.314000\n",
      "Loss: 2.105934, Train accuracy: 0.310333, val accuracy: 0.314000\n",
      "Loss: 1.926241, Train accuracy: 0.314444, val accuracy: 0.316000\n",
      "Loss: 1.876246, Train accuracy: 0.319556, val accuracy: 0.321000\n",
      "Loss: 2.140196, Train accuracy: 0.323444, val accuracy: 0.323000\n",
      "Loss: 1.946637, Train accuracy: 0.327889, val accuracy: 0.324000\n",
      "Loss: 1.897765, Train accuracy: 0.329667, val accuracy: 0.328000\n",
      "Loss: 2.053009, Train accuracy: 0.334778, val accuracy: 0.331000\n",
      "Loss: 1.894593, Train accuracy: 0.339444, val accuracy: 0.338000\n",
      "Loss: 1.926854, Train accuracy: 0.342111, val accuracy: 0.342000\n",
      "Loss: 1.942384, Train accuracy: 0.344889, val accuracy: 0.340000\n",
      "Loss: 1.871854, Train accuracy: 0.347889, val accuracy: 0.343000\n",
      "Loss: 1.851447, Train accuracy: 0.349889, val accuracy: 0.344000\n",
      "Loss: 1.973409, Train accuracy: 0.350778, val accuracy: 0.345000\n",
      "Loss: 1.684712, Train accuracy: 0.353778, val accuracy: 0.348000\n",
      "Loss: 1.951727, Train accuracy: 0.357222, val accuracy: 0.352000\n",
      "Loss: 1.814449, Train accuracy: 0.359778, val accuracy: 0.352000\n",
      "Loss: 1.838696, Train accuracy: 0.362778, val accuracy: 0.358000\n",
      "Loss: 1.861580, Train accuracy: 0.365444, val accuracy: 0.360000\n",
      "Loss: 1.818320, Train accuracy: 0.368889, val accuracy: 0.366000\n",
      "Loss: 1.862279, Train accuracy: 0.369333, val accuracy: 0.365000\n",
      "Loss: 1.683575, Train accuracy: 0.372778, val accuracy: 0.367000\n",
      "Loss: 1.934408, Train accuracy: 0.375000, val accuracy: 0.366000\n",
      "Loss: 1.860512, Train accuracy: 0.376889, val accuracy: 0.373000\n",
      "Loss: 1.958449, Train accuracy: 0.379111, val accuracy: 0.364000\n",
      "Loss: 1.895373, Train accuracy: 0.381778, val accuracy: 0.378000\n",
      "Loss: 1.843549, Train accuracy: 0.383778, val accuracy: 0.381000\n",
      "Loss: 1.780220, Train accuracy: 0.385778, val accuracy: 0.381000\n"
     ]
    },
    {
     "name": "stdout",
     "output_type": "stream",
     "text": [
      "Loss: 1.654622, Train accuracy: 0.387778, val accuracy: 0.383000\n",
      "Loss: 1.769559, Train accuracy: 0.389222, val accuracy: 0.390000\n",
      "Loss: 1.641381, Train accuracy: 0.391667, val accuracy: 0.385000\n",
      "Loss: 1.735905, Train accuracy: 0.394556, val accuracy: 0.385000\n",
      "Loss: 1.732951, Train accuracy: 0.396222, val accuracy: 0.386000\n",
      "Loss: 1.805496, Train accuracy: 0.397556, val accuracy: 0.385000\n",
      "Loss: 1.653400, Train accuracy: 0.398222, val accuracy: 0.393000\n",
      "Loss: 1.693471, Train accuracy: 0.400111, val accuracy: 0.388000\n",
      "Loss: 1.504346, Train accuracy: 0.401000, val accuracy: 0.393000\n",
      "Loss: 1.693361, Train accuracy: 0.404556, val accuracy: 0.390000\n",
      "Loss: 1.657454, Train accuracy: 0.407111, val accuracy: 0.397000\n",
      "Loss: 1.685120, Train accuracy: 0.406778, val accuracy: 0.397000\n",
      "Loss: 1.718916, Train accuracy: 0.410444, val accuracy: 0.395000\n",
      "Loss: 1.634462, Train accuracy: 0.411111, val accuracy: 0.403000\n",
      "Loss: 1.788143, Train accuracy: 0.417556, val accuracy: 0.402000\n",
      "Loss: 1.769072, Train accuracy: 0.417111, val accuracy: 0.398000\n",
      "Loss: 1.820411, Train accuracy: 0.420556, val accuracy: 0.401000\n",
      "Loss: 1.730185, Train accuracy: 0.420333, val accuracy: 0.400000\n",
      "Loss: 1.561077, Train accuracy: 0.421667, val accuracy: 0.402000\n",
      "Loss: 1.592264, Train accuracy: 0.422667, val accuracy: 0.404000\n",
      "Loss: 1.827856, Train accuracy: 0.423111, val accuracy: 0.406000\n",
      "Loss: 1.633718, Train accuracy: 0.425000, val accuracy: 0.406000\n",
      "Loss: 1.713303, Train accuracy: 0.426667, val accuracy: 0.408000\n",
      "Loss: 1.649540, Train accuracy: 0.430111, val accuracy: 0.409000\n",
      "Loss: 1.801208, Train accuracy: 0.429667, val accuracy: 0.409000\n",
      "Loss: 1.737050, Train accuracy: 0.432222, val accuracy: 0.411000\n",
      "Loss: 1.756633, Train accuracy: 0.434111, val accuracy: 0.414000\n",
      "Loss: 1.723631, Train accuracy: 0.434222, val accuracy: 0.415000\n",
      "Loss: 1.763978, Train accuracy: 0.437111, val accuracy: 0.413000\n",
      "Loss: 1.567596, Train accuracy: 0.438222, val accuracy: 0.415000\n",
      "Loss: 1.716929, Train accuracy: 0.441333, val accuracy: 0.420000\n",
      "Loss: 1.520596, Train accuracy: 0.443667, val accuracy: 0.422000\n",
      "Loss: 1.643480, Train accuracy: 0.444667, val accuracy: 0.420000\n",
      "Loss: 1.591679, Train accuracy: 0.447889, val accuracy: 0.419000\n",
      "Loss: 1.690682, Train accuracy: 0.450222, val accuracy: 0.431000\n",
      "Loss: 1.670727, Train accuracy: 0.451444, val accuracy: 0.432000\n",
      "Loss: 1.630840, Train accuracy: 0.454111, val accuracy: 0.426000\n",
      "Loss: 1.524444, Train accuracy: 0.456222, val accuracy: 0.429000\n",
      "Loss: 1.533880, Train accuracy: 0.456111, val accuracy: 0.432000\n",
      "Loss: 1.795499, Train accuracy: 0.460111, val accuracy: 0.435000\n",
      "Loss: 1.707028, Train accuracy: 0.464000, val accuracy: 0.437000\n",
      "Loss: 1.622401, Train accuracy: 0.464333, val accuracy: 0.442000\n",
      "Loss: 1.621550, Train accuracy: 0.465889, val accuracy: 0.446000\n",
      "Loss: 1.503821, Train accuracy: 0.468667, val accuracy: 0.449000\n",
      "Loss: 1.641435, Train accuracy: 0.469444, val accuracy: 0.456000\n",
      "Loss: 1.603233, Train accuracy: 0.470444, val accuracy: 0.456000\n",
      "Loss: 1.639929, Train accuracy: 0.471889, val accuracy: 0.450000\n",
      "Loss: 1.562898, Train accuracy: 0.472556, val accuracy: 0.457000\n",
      "Loss: 1.427918, Train accuracy: 0.478778, val accuracy: 0.461000\n",
      "Loss: 1.610222, Train accuracy: 0.478778, val accuracy: 0.462000\n",
      "Loss: 1.585153, Train accuracy: 0.481333, val accuracy: 0.461000\n",
      "Loss: 1.547077, Train accuracy: 0.481778, val accuracy: 0.462000\n",
      "Loss: 1.747207, Train accuracy: 0.484556, val accuracy: 0.468000\n",
      "Loss: 1.646079, Train accuracy: 0.487778, val accuracy: 0.471000\n",
      "Loss: 1.619843, Train accuracy: 0.486556, val accuracy: 0.466000\n",
      "Loss: 1.679447, Train accuracy: 0.489667, val accuracy: 0.471000\n",
      "Loss: 1.604914, Train accuracy: 0.492444, val accuracy: 0.467000\n",
      "Loss: 1.652482, Train accuracy: 0.492333, val accuracy: 0.475000\n",
      "Loss: 1.699402, Train accuracy: 0.494222, val accuracy: 0.474000\n",
      "Loss: 1.515305, Train accuracy: 0.495667, val accuracy: 0.475000\n",
      "Loss: 1.522715, Train accuracy: 0.494778, val accuracy: 0.479000\n",
      "Loss: 1.388927, Train accuracy: 0.501222, val accuracy: 0.482000\n",
      "Loss: 1.569881, Train accuracy: 0.502889, val accuracy: 0.485000\n",
      "Loss: 1.581636, Train accuracy: 0.503000, val accuracy: 0.478000\n",
      "Loss: 1.466344, Train accuracy: 0.504444, val accuracy: 0.487000\n",
      "Loss: 1.530445, Train accuracy: 0.505556, val accuracy: 0.488000\n",
      "Loss: 1.463536, Train accuracy: 0.504889, val accuracy: 0.488000\n",
      "Loss: 1.552092, Train accuracy: 0.508333, val accuracy: 0.490000\n",
      "Loss: 1.571990, Train accuracy: 0.511444, val accuracy: 0.491000\n",
      "Loss: 1.454132, Train accuracy: 0.513111, val accuracy: 0.494000\n",
      "Loss: 1.567457, Train accuracy: 0.512556, val accuracy: 0.493000\n",
      "Loss: 1.373993, Train accuracy: 0.515333, val accuracy: 0.497000\n",
      "Loss: 1.471717, Train accuracy: 0.517111, val accuracy: 0.494000\n",
      "Loss: 1.312817, Train accuracy: 0.515667, val accuracy: 0.494000\n",
      "Loss: 1.548993, Train accuracy: 0.517222, val accuracy: 0.496000\n",
      "Loss: 1.424993, Train accuracy: 0.519889, val accuracy: 0.501000\n",
      "Loss: 1.499554, Train accuracy: 0.522000, val accuracy: 0.503000\n",
      "Loss: 1.451656, Train accuracy: 0.524444, val accuracy: 0.507000\n",
      "Loss: 1.513728, Train accuracy: 0.525889, val accuracy: 0.509000\n",
      "Loss: 1.487762, Train accuracy: 0.527000, val accuracy: 0.506000\n",
      "Loss: 1.554240, Train accuracy: 0.529111, val accuracy: 0.506000\n",
      "Loss: 1.556140, Train accuracy: 0.530111, val accuracy: 0.516000\n",
      "Loss: 1.481277, Train accuracy: 0.530333, val accuracy: 0.507000\n",
      "Loss: 1.660517, Train accuracy: 0.532556, val accuracy: 0.518000\n",
      "Loss: 1.624583, Train accuracy: 0.532556, val accuracy: 0.516000\n",
      "Loss: 1.759726, Train accuracy: 0.534667, val accuracy: 0.516000\n",
      "Loss: 1.564118, Train accuracy: 0.533889, val accuracy: 0.510000\n",
      "Loss: 1.555806, Train accuracy: 0.535778, val accuracy: 0.517000\n",
      "Loss: 1.510614, Train accuracy: 0.537778, val accuracy: 0.528000\n",
      "Loss: 1.388365, Train accuracy: 0.537778, val accuracy: 0.525000\n",
      "Loss: 1.471337, Train accuracy: 0.538778, val accuracy: 0.525000\n",
      "Loss: 1.436905, Train accuracy: 0.540111, val accuracy: 0.520000\n",
      "Loss: 1.492498, Train accuracy: 0.542222, val accuracy: 0.522000\n",
      "Loss: 1.456445, Train accuracy: 0.543222, val accuracy: 0.526000\n",
      "Loss: 1.623928, Train accuracy: 0.544111, val accuracy: 0.529000\n",
      "Loss: 1.467945, Train accuracy: 0.546778, val accuracy: 0.526000\n",
      "Loss: 1.488047, Train accuracy: 0.544000, val accuracy: 0.523000\n",
      "Loss: 1.556411, Train accuracy: 0.549222, val accuracy: 0.525000\n",
      "Loss: 1.403959, Train accuracy: 0.549556, val accuracy: 0.523000\n",
      "Loss: 1.364535, Train accuracy: 0.548222, val accuracy: 0.522000\n",
      "Loss: 1.531124, Train accuracy: 0.550667, val accuracy: 0.525000\n",
      "Loss: 1.486443, Train accuracy: 0.552889, val accuracy: 0.524000\n",
      "Loss: 1.481838, Train accuracy: 0.549222, val accuracy: 0.529000\n",
      "Loss: 1.641446, Train accuracy: 0.552111, val accuracy: 0.535000\n",
      "Loss: 1.357263, Train accuracy: 0.552667, val accuracy: 0.528000\n",
      "Loss: 1.397876, Train accuracy: 0.553667, val accuracy: 0.539000\n",
      "Loss: 1.617847, Train accuracy: 0.556222, val accuracy: 0.536000\n",
      "Loss: 1.502198, Train accuracy: 0.555667, val accuracy: 0.535000\n",
      "Loss: 1.521280, Train accuracy: 0.559000, val accuracy: 0.541000\n",
      "Loss: 1.314376, Train accuracy: 0.559667, val accuracy: 0.537000\n",
      "Loss: 1.425346, Train accuracy: 0.560556, val accuracy: 0.547000\n",
      "Loss: 1.490057, Train accuracy: 0.560556, val accuracy: 0.539000\n",
      "Loss: 1.517067, Train accuracy: 0.561889, val accuracy: 0.547000\n",
      "Loss: 1.464706, Train accuracy: 0.564667, val accuracy: 0.546000\n",
      "Loss: 1.416632, Train accuracy: 0.565111, val accuracy: 0.547000\n",
      "Loss: 1.337836, Train accuracy: 0.564556, val accuracy: 0.545000\n",
      "Loss: 1.408251, Train accuracy: 0.566222, val accuracy: 0.543000\n",
      "Loss: 1.314289, Train accuracy: 0.565667, val accuracy: 0.548000\n",
      "Loss: 1.230305, Train accuracy: 0.567556, val accuracy: 0.547000\n",
      "Loss: 1.498915, Train accuracy: 0.566556, val accuracy: 0.545000\n",
      "Loss: 1.388989, Train accuracy: 0.567111, val accuracy: 0.551000\n",
      "Loss: 1.218006, Train accuracy: 0.568667, val accuracy: 0.545000\n",
      "Loss: 1.552638, Train accuracy: 0.570000, val accuracy: 0.550000\n",
      "Loss: 1.300269, Train accuracy: 0.569667, val accuracy: 0.550000\n",
      "Loss: 1.434734, Train accuracy: 0.571556, val accuracy: 0.550000\n",
      "Loss: 1.610923, Train accuracy: 0.571556, val accuracy: 0.549000\n",
      "Loss: 1.494486, Train accuracy: 0.571889, val accuracy: 0.558000\n"
     ]
    },
    {
     "name": "stdout",
     "output_type": "stream",
     "text": [
      "Loss: 1.384514, Train accuracy: 0.573222, val accuracy: 0.550000\n",
      "Loss: 1.388861, Train accuracy: 0.571667, val accuracy: 0.551000\n",
      "Loss: 1.495306, Train accuracy: 0.572556, val accuracy: 0.556000\n",
      "Loss: 1.273389, Train accuracy: 0.576556, val accuracy: 0.555000\n",
      "Loss: 1.400928, Train accuracy: 0.576333, val accuracy: 0.561000\n",
      "Loss: 1.234954, Train accuracy: 0.576222, val accuracy: 0.557000\n",
      "Loss: 1.421418, Train accuracy: 0.579111, val accuracy: 0.551000\n",
      "Loss: 1.410976, Train accuracy: 0.578111, val accuracy: 0.558000\n",
      "Loss: 1.351026, Train accuracy: 0.578222, val accuracy: 0.555000\n",
      "Loss: 1.423992, Train accuracy: 0.579889, val accuracy: 0.556000\n",
      "Loss: 1.358552, Train accuracy: 0.579556, val accuracy: 0.562000\n",
      "Loss: 1.323575, Train accuracy: 0.582000, val accuracy: 0.557000\n",
      "Loss: 1.245051, Train accuracy: 0.580000, val accuracy: 0.561000\n",
      "Loss: 1.488880, Train accuracy: 0.580333, val accuracy: 0.563000\n",
      "Loss: 1.231904, Train accuracy: 0.582556, val accuracy: 0.558000\n",
      "Loss: 1.409977, Train accuracy: 0.585667, val accuracy: 0.557000\n",
      "Loss: 1.283558, Train accuracy: 0.585556, val accuracy: 0.563000\n",
      "Loss: 1.386447, Train accuracy: 0.587000, val accuracy: 0.567000\n",
      "Loss: 1.563351, Train accuracy: 0.586111, val accuracy: 0.563000\n",
      "Loss: 1.374577, Train accuracy: 0.585111, val accuracy: 0.557000\n",
      "Loss: 1.377612, Train accuracy: 0.584000, val accuracy: 0.571000\n",
      "Loss: 1.233906, Train accuracy: 0.586111, val accuracy: 0.563000\n",
      "Loss: 1.361463, Train accuracy: 0.589778, val accuracy: 0.566000\n",
      "Loss: 1.303292, Train accuracy: 0.587444, val accuracy: 0.568000\n",
      "Loss: 1.262863, Train accuracy: 0.589222, val accuracy: 0.568000\n",
      "Loss: 1.392603, Train accuracy: 0.590667, val accuracy: 0.567000\n",
      "Loss: 1.238189, Train accuracy: 0.591889, val accuracy: 0.570000\n",
      "Loss: 1.339579, Train accuracy: 0.593444, val accuracy: 0.567000\n",
      "Loss: 1.206493, Train accuracy: 0.590444, val accuracy: 0.568000\n",
      "Loss: 1.244866, Train accuracy: 0.590778, val accuracy: 0.564000\n",
      "Loss: 1.189536, Train accuracy: 0.593000, val accuracy: 0.572000\n",
      "Loss: 1.338967, Train accuracy: 0.593444, val accuracy: 0.573000\n",
      "Loss: 1.351417, Train accuracy: 0.595556, val accuracy: 0.576000\n",
      "Loss: 1.245105, Train accuracy: 0.594333, val accuracy: 0.570000\n",
      "Loss: 1.268701, Train accuracy: 0.594778, val accuracy: 0.569000\n",
      "Loss: 1.241752, Train accuracy: 0.595444, val accuracy: 0.573000\n",
      "Loss: 1.490335, Train accuracy: 0.597889, val accuracy: 0.572000\n",
      "Loss: 1.344626, Train accuracy: 0.595333, val accuracy: 0.571000\n",
      "Loss: 1.390895, Train accuracy: 0.599556, val accuracy: 0.568000\n",
      "Loss: 1.548871, Train accuracy: 0.599333, val accuracy: 0.570000\n",
      "Loss: 1.327378, Train accuracy: 0.598889, val accuracy: 0.568000\n",
      "Loss: 1.302896, Train accuracy: 0.598111, val accuracy: 0.573000\n",
      "Loss: 1.297489, Train accuracy: 0.599000, val accuracy: 0.577000\n",
      "Loss: 1.531815, Train accuracy: 0.595556, val accuracy: 0.570000\n",
      "Loss: 1.336209, Train accuracy: 0.598556, val accuracy: 0.574000\n",
      "Loss: 1.188061, Train accuracy: 0.602222, val accuracy: 0.571000\n",
      "Loss: 1.502854, Train accuracy: 0.599444, val accuracy: 0.568000\n",
      "Loss: 1.404795, Train accuracy: 0.600889, val accuracy: 0.577000\n",
      "Loss: 1.331213, Train accuracy: 0.601333, val accuracy: 0.573000\n",
      "Loss: 1.347614, Train accuracy: 0.601889, val accuracy: 0.576000\n",
      "Loss: 1.391659, Train accuracy: 0.602667, val accuracy: 0.575000\n",
      "Loss: 1.393330, Train accuracy: 0.604000, val accuracy: 0.573000\n",
      "Loss: 1.434884, Train accuracy: 0.600111, val accuracy: 0.573000\n",
      "Loss: 1.287501, Train accuracy: 0.604111, val accuracy: 0.572000\n",
      "Loss: 1.280973, Train accuracy: 0.605889, val accuracy: 0.574000\n",
      "Loss: 1.293573, Train accuracy: 0.604556, val accuracy: 0.577000\n",
      "Loss: 1.275041, Train accuracy: 0.607000, val accuracy: 0.575000\n",
      "Loss: 1.421081, Train accuracy: 0.606333, val accuracy: 0.579000\n",
      "Loss: 1.299087, Train accuracy: 0.606556, val accuracy: 0.577000\n",
      "Loss: 1.344178, Train accuracy: 0.608333, val accuracy: 0.574000\n",
      "Loss: 1.262412, Train accuracy: 0.607000, val accuracy: 0.575000\n",
      "Loss: 1.299401, Train accuracy: 0.607444, val accuracy: 0.575000\n",
      "Loss: 1.471701, Train accuracy: 0.609778, val accuracy: 0.579000\n",
      "Loss: 1.324607, Train accuracy: 0.608222, val accuracy: 0.582000\n",
      "Loss: 1.320945, Train accuracy: 0.612111, val accuracy: 0.578000\n",
      "Loss: 1.421205, Train accuracy: 0.610778, val accuracy: 0.579000\n",
      "Loss: 1.296905, Train accuracy: 0.609222, val accuracy: 0.581000\n",
      "Loss: 1.351378, Train accuracy: 0.610222, val accuracy: 0.580000\n",
      "Loss: 1.350333, Train accuracy: 0.612889, val accuracy: 0.586000\n",
      "Loss: 1.028759, Train accuracy: 0.613889, val accuracy: 0.584000\n",
      "Loss: 1.302740, Train accuracy: 0.613444, val accuracy: 0.588000\n",
      "Loss: 1.175924, Train accuracy: 0.612333, val accuracy: 0.587000\n",
      "Loss: 1.320582, Train accuracy: 0.611444, val accuracy: 0.580000\n",
      "Loss: 1.385507, Train accuracy: 0.614444, val accuracy: 0.586000\n",
      "Loss: 1.248787, Train accuracy: 0.614000, val accuracy: 0.587000\n",
      "Loss: 1.233824, Train accuracy: 0.614222, val accuracy: 0.584000\n",
      "Loss: 1.471026, Train accuracy: 0.612667, val accuracy: 0.587000\n",
      "Loss: 1.198320, Train accuracy: 0.617222, val accuracy: 0.587000\n",
      "Loss: 1.409468, Train accuracy: 0.613889, val accuracy: 0.589000\n",
      "Loss: 1.234659, Train accuracy: 0.614444, val accuracy: 0.586000\n",
      "Loss: 1.268156, Train accuracy: 0.616667, val accuracy: 0.588000\n",
      "Loss: 1.482329, Train accuracy: 0.617778, val accuracy: 0.585000\n",
      "Loss: 1.403869, Train accuracy: 0.615667, val accuracy: 0.591000\n",
      "Loss: 1.277723, Train accuracy: 0.616333, val accuracy: 0.586000\n",
      "Loss: 1.216257, Train accuracy: 0.619556, val accuracy: 0.591000\n",
      "Loss: 1.175508, Train accuracy: 0.616444, val accuracy: 0.596000\n",
      "Loss: 1.300318, Train accuracy: 0.618333, val accuracy: 0.592000\n",
      "Loss: 1.397041, Train accuracy: 0.617000, val accuracy: 0.589000\n",
      "Loss: 1.236450, Train accuracy: 0.619333, val accuracy: 0.593000\n",
      "Loss: 1.206366, Train accuracy: 0.618333, val accuracy: 0.594000\n",
      "Loss: 1.428052, Train accuracy: 0.619556, val accuracy: 0.595000\n",
      "Loss: 1.166556, Train accuracy: 0.620000, val accuracy: 0.596000\n",
      "Loss: 1.385964, Train accuracy: 0.618778, val accuracy: 0.599000\n",
      "Loss: 1.429908, Train accuracy: 0.619556, val accuracy: 0.597000\n",
      "Loss: 1.262822, Train accuracy: 0.618778, val accuracy: 0.599000\n",
      "Loss: 1.425330, Train accuracy: 0.619333, val accuracy: 0.593000\n",
      "Loss: 1.170516, Train accuracy: 0.620333, val accuracy: 0.595000\n",
      "Loss: 1.246454, Train accuracy: 0.620333, val accuracy: 0.591000\n",
      "Loss: 1.372359, Train accuracy: 0.621000, val accuracy: 0.596000\n",
      "Loss: 1.270203, Train accuracy: 0.622000, val accuracy: 0.604000\n",
      "Loss: 1.384022, Train accuracy: 0.622778, val accuracy: 0.601000\n",
      "Loss: 1.215372, Train accuracy: 0.622778, val accuracy: 0.602000\n",
      "Loss: 1.253147, Train accuracy: 0.620667, val accuracy: 0.594000\n",
      "Loss: 1.226260, Train accuracy: 0.622111, val accuracy: 0.598000\n",
      "Loss: 1.276590, Train accuracy: 0.621667, val accuracy: 0.598000\n",
      "Loss: 1.371576, Train accuracy: 0.623444, val accuracy: 0.597000\n",
      "Loss: 1.249618, Train accuracy: 0.622889, val accuracy: 0.600000\n",
      "Loss: 1.301552, Train accuracy: 0.621556, val accuracy: 0.596000\n",
      "Loss: 1.285883, Train accuracy: 0.623778, val accuracy: 0.596000\n",
      "Loss: 1.487446, Train accuracy: 0.621444, val accuracy: 0.600000\n",
      "Loss: 1.411010, Train accuracy: 0.623222, val accuracy: 0.602000\n",
      "Loss: 1.498892, Train accuracy: 0.623444, val accuracy: 0.600000\n",
      "Loss: 1.269316, Train accuracy: 0.622778, val accuracy: 0.597000\n",
      "Loss: 1.210881, Train accuracy: 0.625000, val accuracy: 0.599000\n",
      "Loss: 1.264412, Train accuracy: 0.624556, val accuracy: 0.600000\n",
      "Loss: 1.272763, Train accuracy: 0.625667, val accuracy: 0.602000\n",
      "Loss: 1.155821, Train accuracy: 0.624000, val accuracy: 0.608000\n",
      "Loss: 1.417262, Train accuracy: 0.622667, val accuracy: 0.604000\n",
      "Loss: 1.328120, Train accuracy: 0.624444, val accuracy: 0.601000\n",
      "Loss: 1.142428, Train accuracy: 0.624778, val accuracy: 0.600000\n",
      "Loss: 1.396339, Train accuracy: 0.624667, val accuracy: 0.602000\n",
      "Loss: 1.284393, Train accuracy: 0.625444, val accuracy: 0.604000\n",
      "Loss: 1.383993, Train accuracy: 0.625333, val accuracy: 0.601000\n",
      "Loss: 1.468651, Train accuracy: 0.625778, val accuracy: 0.603000\n",
      "Loss: 1.210074, Train accuracy: 0.625556, val accuracy: 0.602000\n",
      "Loss: 1.174888, Train accuracy: 0.627000, val accuracy: 0.600000\n",
      "Loss: 1.231031, Train accuracy: 0.625667, val accuracy: 0.602000\n"
     ]
    },
    {
     "name": "stdout",
     "output_type": "stream",
     "text": [
      "Loss: 1.206839, Train accuracy: 0.626111, val accuracy: 0.602000\n",
      "Loss: 1.338205, Train accuracy: 0.625889, val accuracy: 0.604000\n",
      "Loss: 1.293178, Train accuracy: 0.624778, val accuracy: 0.604000\n",
      "Loss: 1.334126, Train accuracy: 0.626667, val accuracy: 0.604000\n",
      "Loss: 1.342318, Train accuracy: 0.627333, val accuracy: 0.604000\n",
      "Loss: 1.359121, Train accuracy: 0.625222, val accuracy: 0.601000\n",
      "Loss: 1.338200, Train accuracy: 0.627000, val accuracy: 0.606000\n",
      "Loss: 1.275602, Train accuracy: 0.627667, val accuracy: 0.604000\n",
      "Loss: 1.348156, Train accuracy: 0.628000, val accuracy: 0.603000\n",
      "Loss: 1.325405, Train accuracy: 0.628778, val accuracy: 0.606000\n",
      "Loss: 1.181102, Train accuracy: 0.629444, val accuracy: 0.607000\n",
      "Loss: 1.104719, Train accuracy: 0.627889, val accuracy: 0.606000\n",
      "Loss: 1.196017, Train accuracy: 0.628667, val accuracy: 0.605000\n",
      "Loss: 1.256067, Train accuracy: 0.628111, val accuracy: 0.608000\n",
      "Loss: 1.224062, Train accuracy: 0.628444, val accuracy: 0.608000\n",
      "Loss: 1.315619, Train accuracy: 0.628667, val accuracy: 0.604000\n",
      "Loss: 1.271700, Train accuracy: 0.628889, val accuracy: 0.606000\n",
      "Loss: 1.263473, Train accuracy: 0.628111, val accuracy: 0.605000\n",
      "Loss: 1.239327, Train accuracy: 0.630778, val accuracy: 0.605000\n",
      "Loss: 1.292143, Train accuracy: 0.629778, val accuracy: 0.608000\n",
      "Loss: 1.330983, Train accuracy: 0.628000, val accuracy: 0.603000\n",
      "Loss: 1.318564, Train accuracy: 0.631222, val accuracy: 0.601000\n",
      "Loss: 1.235344, Train accuracy: 0.630778, val accuracy: 0.609000\n",
      "Loss: 1.193146, Train accuracy: 0.630778, val accuracy: 0.608000\n",
      "Loss: 1.160424, Train accuracy: 0.632111, val accuracy: 0.607000\n",
      "Loss: 1.116878, Train accuracy: 0.629222, val accuracy: 0.611000\n",
      "Loss: 1.264162, Train accuracy: 0.631667, val accuracy: 0.606000\n",
      "Loss: 1.319596, Train accuracy: 0.630556, val accuracy: 0.609000\n",
      "Loss: 1.385552, Train accuracy: 0.631778, val accuracy: 0.610000\n",
      "Loss: 1.230002, Train accuracy: 0.631556, val accuracy: 0.608000\n",
      "Loss: 1.062426, Train accuracy: 0.631000, val accuracy: 0.609000\n",
      "Loss: 1.238435, Train accuracy: 0.630000, val accuracy: 0.609000\n",
      "Loss: 1.387329, Train accuracy: 0.631889, val accuracy: 0.607000\n",
      "Loss: 1.274858, Train accuracy: 0.631778, val accuracy: 0.610000\n",
      "Loss: 1.231304, Train accuracy: 0.632333, val accuracy: 0.612000\n",
      "Loss: 1.350619, Train accuracy: 0.631000, val accuracy: 0.609000\n",
      "Loss: 1.125159, Train accuracy: 0.630444, val accuracy: 0.606000\n",
      "Loss: 1.216832, Train accuracy: 0.632222, val accuracy: 0.609000\n",
      "Loss: 1.053467, Train accuracy: 0.631667, val accuracy: 0.609000\n",
      "Loss: 1.368077, Train accuracy: 0.632000, val accuracy: 0.609000\n",
      "Loss: 1.117864, Train accuracy: 0.632667, val accuracy: 0.610000\n",
      "Loss: 1.274291, Train accuracy: 0.632778, val accuracy: 0.610000\n",
      "Loss: 1.204414, Train accuracy: 0.631667, val accuracy: 0.607000\n",
      "Loss: 1.250282, Train accuracy: 0.633111, val accuracy: 0.613000\n",
      "Loss: 1.140558, Train accuracy: 0.634111, val accuracy: 0.614000\n",
      "Loss: 1.076310, Train accuracy: 0.634000, val accuracy: 0.615000\n",
      "Loss: 1.148564, Train accuracy: 0.632333, val accuracy: 0.610000\n",
      "Loss: 1.264801, Train accuracy: 0.635111, val accuracy: 0.606000\n",
      "Loss: 1.166009, Train accuracy: 0.633444, val accuracy: 0.610000\n",
      "Loss: 1.317580, Train accuracy: 0.633889, val accuracy: 0.611000\n",
      "Loss: 1.414238, Train accuracy: 0.633111, val accuracy: 0.611000\n",
      "Loss: 1.353886, Train accuracy: 0.634889, val accuracy: 0.615000\n",
      "Loss: 1.410717, Train accuracy: 0.634333, val accuracy: 0.611000\n",
      "Loss: 1.391024, Train accuracy: 0.635222, val accuracy: 0.612000\n",
      "Loss: 1.324906, Train accuracy: 0.634889, val accuracy: 0.611000\n",
      "Loss: 1.187064, Train accuracy: 0.633000, val accuracy: 0.612000\n",
      "Loss: 1.270568, Train accuracy: 0.633333, val accuracy: 0.608000\n",
      "Loss: 1.183292, Train accuracy: 0.636111, val accuracy: 0.610000\n",
      "Loss: 1.266201, Train accuracy: 0.635778, val accuracy: 0.612000\n",
      "Loss: 1.192627, Train accuracy: 0.634111, val accuracy: 0.612000\n",
      "Loss: 1.272380, Train accuracy: 0.635778, val accuracy: 0.611000\n",
      "Loss: 1.173838, Train accuracy: 0.636778, val accuracy: 0.612000\n",
      "Loss: 1.347869, Train accuracy: 0.636222, val accuracy: 0.613000\n",
      "Loss: 1.214793, Train accuracy: 0.635667, val accuracy: 0.615000\n",
      "Loss: 1.228073, Train accuracy: 0.634778, val accuracy: 0.608000\n",
      "Loss: 1.175929, Train accuracy: 0.637000, val accuracy: 0.615000\n",
      "Loss: 1.263897, Train accuracy: 0.635556, val accuracy: 0.612000\n",
      "Loss: 1.175805, Train accuracy: 0.634556, val accuracy: 0.610000\n",
      "Loss: 1.135187, Train accuracy: 0.634778, val accuracy: 0.612000\n",
      "Loss: 1.177786, Train accuracy: 0.635889, val accuracy: 0.611000\n",
      "Loss: 1.041290, Train accuracy: 0.636556, val accuracy: 0.610000\n",
      "Loss: 1.127482, Train accuracy: 0.636333, val accuracy: 0.613000\n",
      "Loss: 1.177962, Train accuracy: 0.635778, val accuracy: 0.611000\n",
      "Loss: 1.151314, Train accuracy: 0.634667, val accuracy: 0.610000\n",
      "Loss: 1.244348, Train accuracy: 0.636222, val accuracy: 0.613000\n",
      "Loss: 1.146953, Train accuracy: 0.637222, val accuracy: 0.609000\n",
      "Loss: 1.211169, Train accuracy: 0.636778, val accuracy: 0.608000\n",
      "Loss: 1.341877, Train accuracy: 0.638333, val accuracy: 0.611000\n",
      "Loss: 1.473650, Train accuracy: 0.638444, val accuracy: 0.615000\n",
      "Loss: 1.111988, Train accuracy: 0.638556, val accuracy: 0.616000\n",
      "Loss: 1.248903, Train accuracy: 0.638000, val accuracy: 0.613000\n",
      "Loss: 1.326535, Train accuracy: 0.637667, val accuracy: 0.613000\n",
      "Loss: 1.154007, Train accuracy: 0.638222, val accuracy: 0.614000\n",
      "Loss: 1.310678, Train accuracy: 0.636778, val accuracy: 0.612000\n",
      "Loss: 1.214982, Train accuracy: 0.640556, val accuracy: 0.615000\n",
      "Loss: 1.130345, Train accuracy: 0.638444, val accuracy: 0.610000\n",
      "Loss: 1.328364, Train accuracy: 0.639222, val accuracy: 0.613000\n",
      "Loss: 1.099766, Train accuracy: 0.640444, val accuracy: 0.616000\n",
      "Loss: 1.199940, Train accuracy: 0.639778, val accuracy: 0.616000\n",
      "Loss: 1.179291, Train accuracy: 0.639000, val accuracy: 0.616000\n",
      "Loss: 1.029151, Train accuracy: 0.639333, val accuracy: 0.617000\n",
      "Loss: 1.323931, Train accuracy: 0.640111, val accuracy: 0.620000\n",
      "Loss: 1.155780, Train accuracy: 0.639333, val accuracy: 0.619000\n",
      "Loss: 1.205796, Train accuracy: 0.640111, val accuracy: 0.617000\n",
      "Loss: 1.000915, Train accuracy: 0.639667, val accuracy: 0.613000\n",
      "Loss: 1.356268, Train accuracy: 0.638889, val accuracy: 0.616000\n",
      "Loss: 1.143448, Train accuracy: 0.640000, val accuracy: 0.616000\n",
      "Loss: 1.384473, Train accuracy: 0.638111, val accuracy: 0.618000\n",
      "Loss: 1.590033, Train accuracy: 0.641111, val accuracy: 0.617000\n",
      "Loss: 1.016425, Train accuracy: 0.637667, val accuracy: 0.616000\n",
      "Loss: 1.227767, Train accuracy: 0.641778, val accuracy: 0.619000\n",
      "Loss: 1.144690, Train accuracy: 0.639667, val accuracy: 0.616000\n",
      "Loss: 1.108125, Train accuracy: 0.639333, val accuracy: 0.616000\n",
      "Loss: 1.139011, Train accuracy: 0.642222, val accuracy: 0.616000\n",
      "Loss: 1.103701, Train accuracy: 0.641889, val accuracy: 0.618000\n",
      "Loss: 1.081896, Train accuracy: 0.640111, val accuracy: 0.617000\n",
      "Loss: 1.166549, Train accuracy: 0.641000, val accuracy: 0.622000\n",
      "Loss: 1.178448, Train accuracy: 0.640667, val accuracy: 0.617000\n",
      "Loss: 1.079701, Train accuracy: 0.643000, val accuracy: 0.617000\n",
      "Loss: 1.247245, Train accuracy: 0.642889, val accuracy: 0.619000\n",
      "Loss: 1.446071, Train accuracy: 0.640889, val accuracy: 0.615000\n",
      "Loss: 1.135242, Train accuracy: 0.642778, val accuracy: 0.621000\n",
      "Loss: 1.435063, Train accuracy: 0.642889, val accuracy: 0.616000\n",
      "Loss: 1.236932, Train accuracy: 0.642556, val accuracy: 0.617000\n",
      "Loss: 1.124144, Train accuracy: 0.643000, val accuracy: 0.620000\n",
      "Loss: 1.201540, Train accuracy: 0.640889, val accuracy: 0.616000\n",
      "Loss: 1.314362, Train accuracy: 0.642889, val accuracy: 0.617000\n",
      "Loss: 1.184062, Train accuracy: 0.641556, val accuracy: 0.616000\n",
      "Loss: 1.120403, Train accuracy: 0.643667, val accuracy: 0.616000\n"
     ]
    },
    {
     "ename": "TypeError",
     "evalue": "must be real number, not NoneType",
     "output_type": "error",
     "traceback": [
      "\u001b[0;31m---------------------------------------------------------------------------\u001b[0m",
      "\u001b[0;31mTypeError\u001b[0m                                 Traceback (most recent call last)",
      "\u001b[0;32m<ipython-input-88-0162ad3476cd>\u001b[0m in \u001b[0;36m<module>\u001b[0;34m\u001b[0m\n\u001b[1;32m     28\u001b[0m \u001b[0mloss_history\u001b[0m\u001b[0;34m,\u001b[0m \u001b[0mtrain_history\u001b[0m\u001b[0;34m,\u001b[0m \u001b[0mval_history\u001b[0m \u001b[0;34m=\u001b[0m \u001b[0mtrainer\u001b[0m\u001b[0;34m.\u001b[0m\u001b[0mfit\u001b[0m\u001b[0;34m(\u001b[0m\u001b[0;34m)\u001b[0m\u001b[0;34m\u001b[0m\u001b[0;34m\u001b[0m\u001b[0m\n\u001b[1;32m     29\u001b[0m \u001b[0;34m\u001b[0m\u001b[0m\n\u001b[0;32m---> 30\u001b[0;31m \u001b[0mprint\u001b[0m\u001b[0;34m(\u001b[0m\u001b[0;34m'best validation accuracy achieved: %f'\u001b[0m \u001b[0;34m%\u001b[0m \u001b[0mbest_val_accuracy\u001b[0m\u001b[0;34m)\u001b[0m\u001b[0;34m\u001b[0m\u001b[0;34m\u001b[0m\u001b[0m\n\u001b[0m",
      "\u001b[0;31mTypeError\u001b[0m: must be real number, not NoneType"
     ]
    }
   ],
   "source": [
    "# Let's train the best one-hidden-layer network we can\n",
    "\n",
    "learning_rates = 1e-2\n",
    "reg_strength = 1e-3\n",
    "learning_rate_decay = 0.999\n",
    "hidden_layer_size = 256\n",
    "num_epochs = 500\n",
    "batch_size = 100\n",
    "\n",
    "best_classifier = None\n",
    "best_val_accuracy = None\n",
    "\n",
    "loss_history = []\n",
    "train_history = []\n",
    "val_history = []\n",
    "\n",
    "# TODO find the best hyperparameters to train the network\n",
    "# Don't hesitate to add new values to the arrays above, perform experiments, use any tricks you want\n",
    "# You should expect to get to at least 40% of valudation accuracy\n",
    "# Save loss/train/history of the best classifier to the variables above\n",
    "model = TwoLayerNet(n_input = train_X.shape[1], n_output = 10, hidden_layer_size = hidden_layer_size, \n",
    "                    reg = reg_strength)\n",
    "dataset = Dataset(train_X, train_y, val_X, val_y)\n",
    "# TODO: Change any hyperparamers or optimizators to reach training accuracy in 20 epochs\n",
    "trainer = Trainer(model, dataset, SGD(), learning_rate=learning_rates, num_epochs=num_epochs, \n",
    "                  batch_size=batch_size, learning_rate_decay=learning_rate_decay)\n",
    "\n",
    "loss_history, train_history, val_history = trainer.fit()\n",
    "\n",
    "print('best validation accuracy achieved: %f' % best_val_accuracy)"
   ]
  },
  {
   "cell_type": "code",
   "execution_count": 89,
   "metadata": {},
   "outputs": [
    {
     "data": {
      "text/plain": [
       "[<matplotlib.lines.Line2D at 0xb18a21a58>]"
      ]
     },
     "execution_count": 89,
     "metadata": {},
     "output_type": "execute_result"
    },
    {
     "data": {
      "image/png": "[encoded data removed]",
      "text/plain": [
       "<Figure size 1080x504 with 2 Axes>"
      ]
     },
     "metadata": {
      "needs_background": "light"
     },
     "output_type": "display_data"
    }
   ],
   "source": [
    "plt.figure(figsize=(15, 7))\n",
    "plt.subplot(211)\n",
    "plt.title(\"Loss\")\n",
    "plt.plot(loss_history)\n",
    "plt.subplot(212)\n",
    "plt.title(\"Train/validation accuracy\")\n",
    "plt.plot(train_history)\n",
    "plt.plot(val_history)"
   ]
  },
  {
   "cell_type": "markdown",
   "metadata": {},
   "source": [
    "# Как обычно, посмотрим, как наша лучшая модель работает на тестовых данных"
   ]
  },
  {
   "cell_type": "code",
   "execution_count": 90,
   "metadata": {},
   "outputs": [
    {
     "name": "stdout",
     "output_type": "stream",
     "text": [
      "Neural net test set accuracy: 0.564000\n"
     ]
    }
   ],
   "source": [
    "test_pred = model.predict(test_X)\n",
    "test_accuracy = multiclass_accuracy(test_pred, test_y)\n",
    "print('Neural net test set accuracy: %f' % (test_accuracy, ))"
   ]
  },
  {
   "cell_type": "code",
   "execution_count": null,
   "metadata": {},
   "outputs": [],
   "source": []
  }
 ],
 "metadata": {
  "kernelspec": {
   "display_name": "Python 3",
   "language": "python",
   "name": "python3"
  },
  "language_info": {
   "codemirror_mode": {
    "name": "ipython",
    "version": 3
   },
   "file_extension": ".py",
   "mimetype": "text/x-python",
   "name": "python",
   "nbconvert_exporter": "python",
   "pygments_lexer": "ipython3",
   "version": "3.7.3"
  }
 },
 "nbformat": 4,
 "nbformat_minor": 2
}
